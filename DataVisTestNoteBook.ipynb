{
 "cells": [
  {
   "cell_type": "code",
   "execution_count": 2,
   "metadata": {},
   "outputs": [],
   "source": [
    "# import matplotib\n",
    "\n",
    "import numpy as np\n",
    "import matplotlib.pyplot as plt\n",
    "import pandas as pd\n",
    "import os\n",
    "import sys\n",
    "import csv"
   ]
  },
  {
   "cell_type": "code",
   "execution_count": null,
   "metadata": {},
   "outputs": [],
   "source": [
    "# import data\n",
    "\n",
    "ROOT_PATH = \"RC Lab data Raw/\"\n",
    "\n",
    "SUB_FOLDERS = [\"change cap\", \"change resistor\", \"change voltage\"]\n",
    "\n",
    "def read_data(file_path):\n",
    "    data = pd.read_csv(file_path, sep=',', header=0)\n",
    "    df = pd.DataFrame(data)\n",
    "    return df\n",
    "\n",
    "def plot_data(df, title, x_label, y_label):\n",
    "    plt.figure()\n",
    "    plt.plot(df[' time'], df[' cal[0]'], label='Voltage', color='blue')\n",
    "    plt.title(title)\n",
    "    plt.xlabel(x_label)\n",
    "    plt.ylabel(y_label)\n",
    "    plt.legend()\n",
    "    plt.show()\n",
    "\n",
    "def Trim_data(df):\n",
    "    non_zero_indices = df[df[' cal[0]'] != 0].index\n",
    "    start_index = non_zero_indices.min()\n",
    "    end_index = non_zero_indices.max()\n",
    "    df_trimmed = df.loc[start_index:end_index]\n",
    "    return df_trimmed\n",
    "\n",
    "def combine_data_to_single_time_series(df1, df2):\n",
    "    # Ensure only the required columns are present before renaming\n",
    "    df1 = df1[[' time', ' cal[0]']]\n",
    "    df2 = df2[[' time', ' cal[0]']]\n",
    "    # rename the columns of the dataframes to avoid confusion\n",
    "    df1.columns = [' time', ' cal[0]_1']\n",
    "    df2.columns = [' time', ' cal[0]_2']\n",
    "    df_combined = pd.merge_asof(df1.sort_values(' time'), df2.sort_values(' time'), on=' time', suffixes=('_1', '_2'))\n",
    "    return df_combined\n",
    "\n",
    "def main():\n",
    "    for folder in SUB_FOLDERS:\n",
    "        folder_path = ROOT_PATH + folder\n",
    "        files = os.listdir(folder_path)\n",
    "        for i in range(0, len(files), 2):\n",
    "            file_path_1 = folder_path + \"/\" + files[i]\n",
    "            file_path_2 = folder_path + \"/\" + files[i + 1]\n",
    "            \n",
    "            data_1 = read_data(file_path_1)\n",
    "            data_1 = Trim_data(data_1)\n",
    "            \n",
    "            data_2 = read_data(file_path_2)\n",
    "            data_2 = Trim_data(data_2)\n",
    "            \n",
    "            combined_data = combine_data_to_single_time_series(data_1, data_2)\n",
    "            \n",
    "            plot_data(combined_data, \"Combined Voltage vs Time\", \"Time\", \"Voltage\")\n",
    "\n",
    "\n",
    "if __name__ == \"__main__\":\n",
    "    main()\n"
   ]
  }
 ],
 "metadata": {
  "kernelspec": {
   "display_name": "base",
   "language": "python",
   "name": "python3"
  },
  "language_info": {
   "codemirror_mode": {
    "name": "ipython",
    "version": 3
   },
   "file_extension": ".py",
   "mimetype": "text/x-python",
   "name": "python",
   "nbconvert_exporter": "python",
   "pygments_lexer": "ipython3",
   "version": "3.9.19"
  }
 },
 "nbformat": 4,
 "nbformat_minor": 2
}
